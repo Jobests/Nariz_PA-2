{
 "cells": [
  {
   "cell_type": "markdown",
   "id": "a1d57d59-e214-4356-8250-74db170e1083",
   "metadata": {},
   "source": [
    "# 1. Normalization Problem"
   ]
  },
  {
   "cell_type": "code",
   "execution_count": 20,
   "id": "08a0a939-f4a2-4305-bc5d-6a55401d390d",
   "metadata": {},
   "outputs": [
    {
     "name": "stdout",
     "output_type": "stream",
     "text": [
      "Your current value: \n",
      "[[0.08105193 0.8057125  0.16579233 0.19736047 0.50964818]\n",
      " [0.76350522 0.4692332  0.16821388 0.78120911 0.23202613]\n",
      " [0.204194   0.19333397 0.15118363 0.61172241 0.19640976]\n",
      " [0.8040009  0.81578825 0.00725987 0.49262432 0.72995598]\n",
      " [0.49240912 0.00658651 0.78115321 0.65749991 0.05104395]]\n",
      "Your normalized value: \n",
      "[[-1.16062707  1.35974608 -0.86589951 -0.75610537  0.33003288]\n",
      " [ 1.21294896  0.18946935 -0.85747736  1.27452316 -0.63553801]\n",
      " [-0.7323383  -0.77010957 -0.91670864  0.68504757 -0.75941194]\n",
      " [ 1.35379313  1.3947896  -1.4172762   0.27082381  1.0962645 ]\n",
      " [ 0.27007533 -1.41961818  1.27432875  0.84426195 -1.26499495]]\n"
     ]
    }
   ],
   "source": [
    "import numpy as np\n",
    "\n",
    "#Create a random array that is 5 x 5\n",
    "X = np.random.rand(5, 5)\n",
    "\n",
    "#Set the values\n",
    "mean = np.mean(X)\n",
    "std = np.std(X)\n",
    "Z = (X - mean) / std\n",
    "\n",
    "#saving\n",
    "Normalized_X = np.save(\"X_normalized.npy\", Z)\n",
    "\n",
    "#printing the output\n",
    "print(\"Your current value: \")\n",
    "print(X)\n",
    "print(\"Your normalized value: \")\n",
    "print(Z)"
   ]
  },
  {
   "cell_type": "markdown",
   "id": "f35e1d99-7e55-4284-b82f-240f8c7bc4b7",
   "metadata": {},
   "source": [
    "# 2. Divisible by 3 Problem"
   ]
  },
  {
   "cell_type": "code",
   "execution_count": 22,
   "id": "60294b74-c220-49d4-ad86-1b70a850c6aa",
   "metadata": {},
   "outputs": [
    {
     "name": "stdout",
     "output_type": "stream",
     "text": [
      "[[    1     4     9    16    25    36    49    64    81   100]\n",
      " [  121   144   169   196   225   256   289   324   361   400]\n",
      " [  441   484   529   576   625   676   729   784   841   900]\n",
      " [  961  1024  1089  1156  1225  1296  1369  1444  1521  1600]\n",
      " [ 1681  1764  1849  1936  2025  2116  2209  2304  2401  2500]\n",
      " [ 2601  2704  2809  2916  3025  3136  3249  3364  3481  3600]\n",
      " [ 3721  3844  3969  4096  4225  4356  4489  4624  4761  4900]\n",
      " [ 5041  5184  5329  5476  5625  5776  5929  6084  6241  6400]\n",
      " [ 6561  6724  6889  7056  7225  7396  7569  7744  7921  8100]\n",
      " [ 8281  8464  8649  8836  9025  9216  9409  9604  9801 10000]]\n",
      "The values that are divisible by 3 are: \n",
      "[   9   36   81  144  225  324  441  576  729  900 1089 1296 1521 1764\n",
      " 2025 2304 2601 2916 3249 3600 3969 4356 4761 5184 5625 6084 6561 7056\n",
      " 7569 8100 8649 9216 9801]\n"
     ]
    }
   ],
   "source": [
    "import numpy as np\n",
    "\n",
    "A = np.arange(1, 101) #Create the range of the array from 1 - 100\n",
    "B = A.reshape(10, 10) #Reshape the array to 10 x 10\n",
    "C = np.square(B) #Square all of the elements inside of the array\n",
    "print(C) #print\n",
    "\n",
    "#Using boolean indexing to find the values that are divisible by 3 and stores it\n",
    "divisible_by_3 = C[C % 3 == 0] \n",
    "\n",
    "#saving\n",
    "np.save(\"div_by_3.npy\", divisible_by_3)\n",
    "\n",
    "#Print the values that are divisble by 3\n",
    "print(\"The values that are divisible by 3 are: \")\n",
    "print(divisible_by_3)"
   ]
  }
 ],
 "metadata": {
  "kernelspec": {
   "display_name": "Python 3 (ipykernel)",
   "language": "python",
   "name": "python3"
  },
  "language_info": {
   "codemirror_mode": {
    "name": "ipython",
    "version": 3
   },
   "file_extension": ".py",
   "mimetype": "text/x-python",
   "name": "python",
   "nbconvert_exporter": "python",
   "pygments_lexer": "ipython3",
   "version": "3.12.4"
  }
 },
 "nbformat": 4,
 "nbformat_minor": 5
}
